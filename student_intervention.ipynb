{
 "cells": [
  {
   "cell_type": "markdown",
   "metadata": {},
   "source": [
    "# Machine Learning Engineer Nanodegree\n",
    "## Supervised Learning\n",
    "## Project 2: Building a Student Intervention System"
   ]
  },
  {
   "cell_type": "markdown",
   "metadata": {},
   "source": [

   ]
  },
  {
   "cell_type": "markdown",
   "metadata": {},
   "source": [
    "### Question 1 - Classification vs. Regression\n",
    "*Your goal for this project is to identify students who might need early intervention before they fail to graduate. Which type of supervised learning problem is this, classification or regression? Why?*"
   ]
  },
  {
   "cell_type": "markdown",
   "metadata": {},
   "source": [
    "**Answer: ** This problem is an example of binomial, or two-class classification, where we are attempting to assign data points to being in either one of two categories. Students fall in to two categories, those who passed and those who did not. We will attempt to develop a model to predict which of these categories a given student falls in to. "
   ]
  },
  {
   "cell_type": "markdown",
   "metadata": {},
   "source": [
    "## Exploring the Data\n",
    "Run the code cell below to load necessary Python libraries and load the student data. Note that the last column from this dataset, `'passed'`, will be our target label (whether the student graduated or didn't graduate). All other columns are features about each student."
   ]
  },
  {
   "cell_type": "code",
   "execution_count": 2,
   "metadata": {
    "collapsed": false
   },
   "outputs": [
    {
     "name": "stdout",
     "output_type": "stream",
     "text": [
      "Student data read successfully!\n"
     ]
    }
   ],
   "source": [
    "# Import libraries\n",
    "import numpy as np\n",
    "import pandas as pd\n",
    "from time import time\n",
    "from sklearn.metrics import f1_score\n",
    "\n",
    "# Read student data\n",
    "student_data = pd.read_csv(\"student-data.csv\")\n",
    "print \"Student data read successfully!\""
   ]
  },
  {
   "cell_type": "code",
   "execution_count": 3,
   "metadata": {
    "collapsed": false
   },
   "outputs": [
    {
     "data": {
      "text/html": [
       "<div>\n",
       "<table border=\"1\" class=\"dataframe\">\n",
       "  <thead>\n",
       "    <tr style=\"text-align: right;\">\n",
       "      <th></th>\n",
       "      <th>school</th>\n",
       "      <th>sex</th>\n",
       "      <th>age</th>\n",
       "      <th>address</th>\n",
       "      <th>famsize</th>\n",
       "      <th>Pstatus</th>\n",
       "      <th>Medu</th>\n",
       "      <th>Fedu</th>\n",
       "      <th>Mjob</th>\n",
       "      <th>Fjob</th>\n",
       "      <th>...</th>\n",
       "      <th>internet</th>\n",
       "      <th>romantic</th>\n",
       "      <th>famrel</th>\n",
       "      <th>freetime</th>\n",
       "      <th>goout</th>\n",
       "      <th>Dalc</th>\n",
       "      <th>Walc</th>\n",
       "      <th>health</th>\n",
       "      <th>absences</th>\n",
       "      <th>passed</th>\n",
       "    </tr>\n",
       "  </thead>\n",
       "  <tbody>\n",
       "    <tr>\n",
       "      <th>0</th>\n",
       "      <td>GP</td>\n",
       "      <td>F</td>\n",
       "      <td>18</td>\n",
       "      <td>U</td>\n",
       "      <td>GT3</td>\n",
       "      <td>A</td>\n",
       "      <td>4</td>\n",
       "      <td>4</td>\n",
       "      <td>at_home</td>\n",
       "      <td>teacher</td>\n",
       "      <td>...</td>\n",
       "      <td>no</td>\n",
       "      <td>no</td>\n",
       "      <td>4</td>\n",
       "      <td>3</td>\n",
       "      <td>4</td>\n",
       "      <td>1</td>\n",
       "      <td>1</td>\n",
       "      <td>3</td>\n",
       "      <td>6</td>\n",
       "      <td>no</td>\n",
       "    </tr>\n",
       "    <tr>\n",
       "      <th>1</th>\n",
       "      <td>GP</td>\n",
       "      <td>F</td>\n",
       "      <td>17</td>\n",
       "      <td>U</td>\n",
       "      <td>GT3</td>\n",
       "      <td>T</td>\n",
       "      <td>1</td>\n",
       "      <td>1</td>\n",
       "      <td>at_home</td>\n",
       "      <td>other</td>\n",
       "      <td>...</td>\n",
       "      <td>yes</td>\n",
       "      <td>no</td>\n",
       "      <td>5</td>\n",
       "      <td>3</td>\n",
       "      <td>3</td>\n",
       "      <td>1</td>\n",
       "      <td>1</td>\n",
       "      <td>3</td>\n",
       "      <td>4</td>\n",
       "      <td>no</td>\n",
       "    </tr>\n",
       "    <tr>\n",
       "      <th>2</th>\n",
       "      <td>GP</td>\n",
       "      <td>F</td>\n",
       "      <td>15</td>\n",
       "      <td>U</td>\n",
       "      <td>LE3</td>\n",
       "      <td>T</td>\n",
       "      <td>1</td>\n",
       "      <td>1</td>\n",
       "      <td>at_home</td>\n",
       "      <td>other</td>\n",
       "      <td>...</td>\n",
       "      <td>yes</td>\n",
       "      <td>no</td>\n",
       "      <td>4</td>\n",
       "      <td>3</td>\n",
       "      <td>2</td>\n",
       "      <td>2</td>\n",
       "      <td>3</td>\n",
       "      <td>3</td>\n",
       "      <td>10</td>\n",
       "      <td>yes</td>\n",
       "    </tr>\n",
       "    <tr>\n",
       "      <th>3</th>\n",
       "      <td>GP</td>\n",
       "      <td>F</td>\n",
       "      <td>15</td>\n",
       "      <td>U</td>\n",
       "      <td>GT3</td>\n",
       "      <td>T</td>\n",
       "      <td>4</td>\n",
       "      <td>2</td>\n",
       "      <td>health</td>\n",
       "      <td>services</td>\n",
       "      <td>...</td>\n",
       "      <td>yes</td>\n",
       "      <td>yes</td>\n",
       "      <td>3</td>\n",
       "      <td>2</td>\n",
       "      <td>2</td>\n",
       "      <td>1</td>\n",
       "      <td>1</td>\n",
       "      <td>5</td>\n",
       "      <td>2</td>\n",
       "      <td>yes</td>\n",
       "    </tr>\n",
       "    <tr>\n",
       "      <th>4</th>\n",
       "      <td>GP</td>\n",
       "      <td>F</td>\n",
       "      <td>16</td>\n",
       "      <td>U</td>\n",
       "      <td>GT3</td>\n",
       "      <td>T</td>\n",
       "      <td>3</td>\n",
       "      <td>3</td>\n",
       "      <td>other</td>\n",
       "      <td>other</td>\n",
       "      <td>...</td>\n",
       "      <td>no</td>\n",
       "      <td>no</td>\n",
       "      <td>4</td>\n",
       "      <td>3</td>\n",
       "      <td>2</td>\n",
       "      <td>1</td>\n",
       "      <td>2</td>\n",
       "      <td>5</td>\n",
       "      <td>4</td>\n",
       "      <td>yes</td>\n",
       "    </tr>\n",
       "  </tbody>\n",
       "</table>\n",
       "<p>5 rows × 31 columns</p>\n",
       "</div>"
      ],
      "text/plain": [
       "  school sex  age address famsize Pstatus  Medu  Fedu     Mjob      Fjob  \\\n",
       "0     GP   F   18       U     GT3       A     4     4  at_home   teacher   \n",
       "1     GP   F   17       U     GT3       T     1     1  at_home     other   \n",
       "2     GP   F   15       U     LE3       T     1     1  at_home     other   \n",
       "3     GP   F   15       U     GT3       T     4     2   health  services   \n",
       "4     GP   F   16       U     GT3       T     3     3    other     other   \n",
       "\n",
       "   ...   internet romantic  famrel  freetime  goout Dalc Walc health absences  \\\n",
       "0  ...         no       no       4         3      4    1    1      3        6   \n",
       "1  ...        yes       no       5         3      3    1    1      3        4   \n",
       "2  ...        yes       no       4         3      2    2    3      3       10   \n",
       "3  ...        yes      yes       3         2      2    1    1      5        2   \n",
       "4  ...         no       no       4         3      2    1    2      5        4   \n",
       "\n",
       "  passed  \n",
       "0     no  \n",
       "1     no  \n",
       "2    yes  \n",
       "3    yes  \n",
       "4    yes  \n",
       "\n",
       "[5 rows x 31 columns]"
      ]
     },
     "execution_count": 3,
     "metadata": {},
     "output_type": "execute_result"
    }
   ],
   "source": [
    "student_data.head(5)"
   ]
  },
  {
   "cell_type": "markdown",
   "metadata": {},
   "source": [
    "### Implementation: Data Exploration\n",
    "Let's begin by investigating the dataset to determine how many students we have information on, and learn about the graduation rate among these students. In the code cell below, you will need to compute the following:\n",
    "- The total number of students, `n_students`.\n",
    "- The total number of features for each student, `n_features`.\n",
    "- The number of those students who passed, `n_passed`.\n",
    "- The number of those students who failed, `n_failed`.\n",
    "- The graduation rate of the class, `grad_rate`, in percent (%).\n"
   ]
  },
  {
   "cell_type": "code",
   "execution_count": 4,
   "metadata": {
    "collapsed": false
   },
   "outputs": [
    {
     "name": "stdout",
     "output_type": "stream",
     "text": [
      "Total number of students: 395\n",
      "Number of features: 30\n",
      "Number of students who passed: 265\n",
      "Number of students who failed: 130\n",
      "Graduation rate of the class: 67.09%\n"
     ]
    }
   ],
   "source": [
    "\n",
    "# TODO: Calculate number of students\n",
    "n_students = len(student_data.index)\n",
    "\n",
    "# TODO: Calculate number of features\n",
    "n_features = len(student_data.columns)-1\n",
    "\n",
    "\n",
    "# TODO: Calculate passing students\n",
    "n_passed = len(student_data[student_data['passed'] == 'yes'])\n",
    "\n",
    "\n",
    "# TODO: Calculate failing students\n",
    "n_failed = len(student_data[student_data['passed'] == 'no'])\n",
    "\n",
    "# TODO: Calculate graduation rate\n",
    "grad_rate = 100.00 * n_passed/n_students\n",
    "\n",
    "# Print the results\n",
    "print \"Total number of students: {}\".format(n_students)\n",
    "print \"Number of features: {}\".format(n_features)\n",
    "print \"Number of students who passed: {}\".format(n_passed)\n",
    "print \"Number of students who failed: {}\".format(n_failed)\n",
    "print \"Graduation rate of the class: {:.2f}%\".format(grad_rate)"
   ]
  },
  {
   "cell_type": "code",
   "execution_count": 5,
   "metadata": {
    "collapsed": false
   },
   "outputs": [
    {
     "data": {
      "image/png": "iVBORw0KGgoAAAANSUhEUgAAAe4AAAFkCAYAAADmPNjoAAAABHNCSVQICAgIfAhkiAAAAAlwSFlz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\nERERE1G4RURETEThFhERMZH/A9nxuCtQF84wAAAAAElFTkSuQmCC\n",
      "text/plain": [
       "<matplotlib.figure.Figure at 0x114dd7d50>"
      ]
     },
     "metadata": {},
     "output_type": "display_data"
    }
   ],
   "source": [
    "import seaborn as sns\n",
    "%matplotlib inline\n",
    "sns.set(style=\"whitegrid\", color_codes=True)\n",
    "\n",
    "# Draw a nested violinplot and split the violins for easier comparison\n",
    "sns.violinplot(x=\"sex\", y=\"age\", hue=\"passed\", data=student_data, split=True, \n",
    "               inner=\"quart\", palette={\"yes\": \"b\", \"no\": \"r\"})\n",
    "sns.despine(left=True)"
   ]
  },
  {
   "cell_type": "markdown",
   "metadata": {},
   "source": [
    "The above plot shows the relationship age has with passing for each gender. It appears that younger male students are more likely to pass than older male students."
   ]
  },
  {
   "cell_type": "code",
   "execution_count": 31,
   "metadata": {
    "collapsed": false
   },
   "outputs": [
    {
     "data": {
      "image/png": "iVBORw0KGgoAAAANSUhEUgAAAfMAAAFkCAYAAAA0bNKwAAAABHNCSVQICAgIfAhkiAAAAAlwSFlz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\nmAMAYDjCHAAAwxHmAAAYjjAHAMBw/wdyN2XQokEvtAAAAABJRU5ErkJggg==\n",
      "text/plain": [
       "<matplotlib.figure.Figure at 0x117d986d0>"
      ]
     },
     "metadata": {},
     "output_type": "display_data"
    }
   ],
   "source": [
    "sns.countplot(student_data['absences']);"
   ]
  },
  {
   "cell_type": "markdown",
   "metadata": {},
   "source": [
    "One strange observation about the dataset is that most of the absences values are even numbers. Looking at the above distribution leads one to believe that there was some issue with the data collection which effected the data."
   ]
  },
  {
   "cell_type": "markdown",
   "metadata": {},
   "source": [
    "## Preparing the Data\n",
    "In this section, we will prepare the data for modeling, training and testing.\n",
    "\n",
    "### Identify feature and target columns\n",
    "It is often the case that the data you obtain contains non-numeric features. This can be a problem, as most machine learning algorithms expect numeric data to perform computations with.\n",
    "\n",
    "Run the code cell below to separate the student data into feature and target columns to see if any features are non-numeric."
   ]
  },
  {
   "cell_type": "code",
   "execution_count": 6,
   "metadata": {
    "collapsed": false
   },
   "outputs": [
    {
     "name": "stdout",
     "output_type": "stream",
     "text": [
      "Feature columns:\n",
      "['school', 'sex', 'age', 'address', 'famsize', 'Pstatus', 'Medu', 'Fedu', 'Mjob', 'Fjob', 'reason', 'guardian', 'traveltime', 'studytime', 'failures', 'schoolsup', 'famsup', 'paid', 'activities', 'nursery', 'higher', 'internet', 'romantic', 'famrel', 'freetime', 'goout', 'Dalc', 'Walc', 'health', 'absences']\n",
      "\n",
      "Target column: passed\n",
      "\n",
      "Feature values:\n",
      "  school sex  age address famsize Pstatus  Medu  Fedu     Mjob      Fjob  \\\n",
      "0     GP   F   18       U     GT3       A     4     4  at_home   teacher   \n",
      "1     GP   F   17       U     GT3       T     1     1  at_home     other   \n",
      "2     GP   F   15       U     LE3       T     1     1  at_home     other   \n",
      "3     GP   F   15       U     GT3       T     4     2   health  services   \n",
      "4     GP   F   16       U     GT3       T     3     3    other     other   \n",
      "\n",
      "    ...    higher internet  romantic  famrel  freetime goout Dalc Walc health  \\\n",
      "0   ...       yes       no        no       4         3     4    1    1      3   \n",
      "1   ...       yes      yes        no       5         3     3    1    1      3   \n",
      "2   ...       yes      yes        no       4         3     2    2    3      3   \n",
      "3   ...       yes      yes       yes       3         2     2    1    1      5   \n",
      "4   ...       yes       no        no       4         3     2    1    2      5   \n",
      "\n",
      "  absences  \n",
      "0        6  \n",
      "1        4  \n",
      "2       10  \n",
      "3        2  \n",
      "4        4  \n",
      "\n",
      "[5 rows x 30 columns]\n"
     ]
    }
   ],
   "source": [
    "# Extract feature columns\n",
    "feature_cols = list(student_data.columns[:-1])\n",
    "\n",
    "# Extract target column 'passed'\n",
    "target_col = student_data.columns[-1] \n",
    "\n",
    "# Show the list of columns\n",
    "print \"Feature columns:\\n{}\".format(feature_cols)\n",
    "print \"\\nTarget column: {}\".format(target_col)\n",
    "\n",
    "# Separate the data into feature data and target data (X_all and y_all, respectively)\n",
    "X_all = student_data[feature_cols]\n",
    "y_all = student_data[target_col]\n",
    "\n",
    "# Show the feature information by printing the first five rows\n",
    "print \"\\nFeature values:\"\n",
    "print X_all.head()"
   ]
  },
  {
   "cell_type": "markdown",
   "metadata": {},
   "source": [
    "### Preprocess Feature Columns\n",
    "\n",
    "As you can see, there are several non-numeric columns that need to be converted! Many of them are simply `yes`/`no`, e.g. `internet`. These can be reasonably converted into `1`/`0` (binary) values.\n",
    "\n",
    "Other columns, like `Mjob` and `Fjob`, have more than two values, and are known as _categorical variables_. The recommended way to handle such a column is to create as many columns as possible values (e.g. `Fjob_teacher`, `Fjob_other`, `Fjob_services`, etc.), and assign a `1` to one of them and `0` to all others.\n",
    "\n",
    "These generated columns are sometimes called _dummy variables_, and we will use the [`pandas.get_dummies()`](http://pandas.pydata.org/pandas-docs/stable/generated/pandas.get_dummies.html?highlight=get_dummies#pandas.get_dummies) function to perform this transformation. Run the code cell below to perform the preprocessing routine discussed in this section."
   ]
  },
  {
   "cell_type": "code",
   "execution_count": 7,
   "metadata": {
    "collapsed": false
   },
   "outputs": [
    {
     "name": "stdout",
     "output_type": "stream",
     "text": [
      "Processed feature columns (48 total features):\n",
      "['school_GP', 'school_MS', 'sex_F', 'sex_M', 'age', 'address_R', 'address_U', 'famsize_GT3', 'famsize_LE3', 'Pstatus_A', 'Pstatus_T', 'Medu', 'Fedu', 'Mjob_at_home', 'Mjob_health', 'Mjob_other', 'Mjob_services', 'Mjob_teacher', 'Fjob_at_home', 'Fjob_health', 'Fjob_other', 'Fjob_services', 'Fjob_teacher', 'reason_course', 'reason_home', 'reason_other', 'reason_reputation', 'guardian_father', 'guardian_mother', 'guardian_other', 'traveltime', 'studytime', 'failures', 'schoolsup', 'famsup', 'paid', 'activities', 'nursery', 'higher', 'internet', 'romantic', 'famrel', 'freetime', 'goout', 'Dalc', 'Walc', 'health', 'absences']\n"
     ]
    }
   ],
   "source": [
    "def preprocess_features(X):\n",
    "    ''' Preprocesses the student data and converts non-numeric binary variables into\n",
    "        binary (0/1) variables. Converts categorical variables into dummy variables. '''\n",
    "    \n",
    "    # Initialize new output DataFrame\n",
    "    output = pd.DataFrame(index = X.index)\n",
    "\n",
    "    # Investigate each feature column for the data\n",
    "    for col, col_data in X.iteritems():\n",
    "        \n",
    "        # If data type is non-numeric, replace all yes/no values with 1/0\n",
    "        if col_data.dtype == object:\n",
    "            col_data = col_data.replace(['yes', 'no'], [1, 0])\n",
    "\n",
    "        # If data type is categorical, convert to dummy variables\n",
    "        if col_data.dtype == object:\n",
    "            # Example: 'school' => 'school_GP' and 'school_MS'\n",
    "            col_data = pd.get_dummies(col_data, prefix = col)  \n",
    "        \n",
    "        # Collect the revised columns\n",
    "        output = output.join(col_data)\n",
    "    \n",
    "    return output\n",
    "\n",
    "X_all = preprocess_features(X_all)\n",
    "print \"Processed feature columns ({} total features):\\n{}\".format(len(X_all.columns), list(X_all.columns))"
   ]
  },
  {
   "cell_type": "markdown",
   "metadata": {},
   "source": [
    "### Implementation: Training and Testing Data Split\n",
    "So far, we have converted all _categorical_ features into numeric values. For the next step, we split the data (both features and corresponding labels) into training and test sets. In the following code cell below, you will need to implement the following:\n",
    "- Randomly shuffle and split the data (`X_all`, `y_all`) into training and testing subsets.\n",
    "  - Use 300 training points (approximately 75%) and 95 testing points (approximately 25%).\n",
    "  - Set a `random_state` for the function(s) you use, if provided.\n",
    "  - Store the results in `X_train`, `X_test`, `y_train`, and `y_test`."
   ]
  },
  {
   "cell_type": "code",
   "execution_count": 8,
   "metadata": {
    "collapsed": false
   },
   "outputs": [
    {
     "name": "stdout",
     "output_type": "stream",
     "text": [
      "Training set has 300 samples.\n",
      "Testing set has 95 samples.\n"
     ]
    }
   ],
   "source": [
    "# TODO: Import any additional functionality you may need here\n",
    "\n",
    "# TODO: Set the number of training points\n",
    "num_train = 300\n",
    "\n",
    "# Set the number of testing points\n",
    "num_test = X_all.shape[0] - num_train\n",
    "\n",
    "# TODO: Shuffle and split the dataset into the number of training and testing points above\n",
    "from sklearn.cross_validation import train_test_split\n",
    "X,y = X_all, y_all\n",
    "\n",
    "X_train, X_test, y_train, y_test = train_test_split(X, y, test_size=95, random_state=122)\n",
    "\n",
    "\n",
    "# Show the results of the split\n",
    "print \"Training set has {} samples.\".format(X_train.shape[0])\n",
    "print \"Testing set has {} samples.\".format(X_test.shape[0])"
   ]
  },
  {
   "cell_type": "markdown",
   "metadata": {},
   "source": [
    "## Training and Evaluating Models\n",
    "In this section, you will choose 3 supervised learning models that are appropriate for this problem and available in `scikit-learn`. You will first discuss the reasoning behind choosing these three models by considering what you know about the data and each model's strengths and weaknesses. You will then fit the model to varying sizes of training data (100 data points, 200 data points, and 300 data points) and measure the F<sub>1</sub> score. You will need to produce three tables (one for each model) that shows the training set size, training time, prediction time, F<sub>1</sub> score on the training set, and F<sub>1</sub> score on the testing set."
   ]
  },
  {
   "cell_type": "markdown",
   "metadata": {},
   "source": [
    "### Question 2 - Model Application\n",
    "*List three supervised learning models that are appropriate for this problem. What are the general applications of each model? What are their strengths and weaknesses? Given what you know about the data, why did you choose these models to be applied?*"
   ]
  },
  {
   "cell_type": "markdown",
   "metadata": {},
   "source": [
    "**Answer: ** The three supervised learning models that I will be testing for this problem are the Decision Tree Classifier, the Support Vector Machine Classifier and the Logistic Regression model. \n",
    "\n",
    "**Decision trees** \n",
    "\n",
    "General Applications:\n",
    "\n",
    "Has been used in the field of astronomy to filter noise from Hubble Space Telescope images.\n",
    "\n",
    "Advantages:\n",
    "\n",
    "Decision trees follows simple, logical decision rules and can hande non-linear decision features.\n",
    "\n",
    "Disadvantages:\n",
    "\n",
    "The major drawback of decision trees is that they have a tendency to overfit to the training data and can be less flexible for making predictions on new data sets.\n",
    "\n",
    "**Support Vector Machine**\n",
    "\n",
    "General Applications:\n",
    "\n",
    "Support Vector Machines have been used in biological and other sciences. It ias been used to classify proteinds with as many as 90% of proteins classified correctly.\n",
    "\n",
    "Advantages:\n",
    "\n",
    "Some advantages of the Support Vector Machines are that they work well for data sets with a high number of features, they are memory efficient, and they are versatile with different kernel types that can be applied in the model. \n",
    "\n",
    "Disadvantages:\n",
    "\n",
    "One possible drawback is that the method is likely to struggle if the number of features is much greater than the number of samples.\n",
    "\n",
    "**Logistic Regression**\n",
    "\n",
    "General Applications:\n",
    "\n",
    "Logistic Regression has been applied by Netflix to improve their personalization technology.\n",
    "\n",
    "Advantages:\n",
    "\n",
    "Logistic regression is a linear model used for classification rather than regression. One pro of logistic regression is that it gives you a classification for the data point along with a scored probability of it being in each category.\n",
    "\n",
    "Disadvantages:\n",
    "\n",
    "Logistic regression tends to struggle when there is a large number of features and/or a large amount of missing data.\n",
    "\n",
    "**References**\n",
    "\n",
    "http://www.cbcb.umd.edu/~salzberg/docs/murthy_thesis/survey/node32.html\n",
    "\n",
    "\n",
    "https://en.wikipedia.org/wiki/Support_vector_machine\n",
    "\n",
    "\n",
    "http://blog.udacity.com/2016/06/machine-learning-everywhere-netflix-personalized-medicine-fraud-prevention.html"
   ]
  },
  {
   "cell_type": "markdown",
   "metadata": {},
   "source": [
    "### Setup\n",
    "Run the code cell below to initialize three helper functions which you can use for training and testing the three supervised learning models you've chosen above. The functions are as follows:\n",
    "- `train_classifier` - takes as input a classifier and training data and fits the classifier to the data.\n",
    "- `predict_labels` - takes as input a fit classifier, features, and a target labeling and makes predictions using the F<sub>1</sub> score.\n",
    "- `train_predict` - takes as input a classifier, and the training and testing data, and performs `train_clasifier` and `predict_labels`.\n",
    " - This function will report the F<sub>1</sub> score for both the training and testing data separately."
   ]
  },
  {
   "cell_type": "code",
   "execution_count": 9,
   "metadata": {
    "collapsed": false
   },
   "outputs": [],
   "source": [
    "def train_classifier(clf, X_train, y_train):\n",
    "    ''' Fits a classifier to the training data. '''\n",
    "    \n",
    "    # Start the clock, train the classifier, then stop the clock\n",
    "    start = time()\n",
    "    clf.fit(X_train, y_train)\n",
    "    end = time()\n",
    "    \n",
    "    # Print the results\n",
    "    print \"Trained model in {:.4f} seconds\".format(end - start)\n",
    "\n",
    "    \n",
    "def predict_labels(clf, features, target):\n",
    "    ''' Makes predictions using a fit classifier based on F1 score. '''\n",
    "    \n",
    "    # Start the clock, make predictions, then stop the clock\n",
    "    start = time()\n",
    "    y_pred = clf.predict(features)\n",
    "    end = time()\n",
    "    \n",
    "    # Print and return results\n",
    "    print \"Made predictions in {:.4f} seconds.\".format(end - start)\n",
    "    return f1_score(target.values, y_pred, pos_label='yes')\n",
    "\n",
    "\n",
    "def train_predict(clf, X_train, y_train, X_test, y_test):\n",
    "    ''' Train and predict using a classifer based on F1 score. '''\n",
    "    \n",
    "    # Indicate the classifier and the training set size\n",
    "    print \"Training a {} using a training set size of {}. . .\".format(clf.__class__.__name__, len(X_train))\n",
    "    \n",
    "    # Train the classifier\n",
    "    train_classifier(clf, X_train, y_train)\n",
    "    \n",
    "    # Print the results of prediction for both training and testing\n",
    "    print \"F1 score for training set: {:.4f}.\".format(predict_labels(clf, X_train, y_train))\n",
    "    print \"F1 score for test set: {:.4f}.\".format(predict_labels(clf, X_test, y_test))"
   ]
  },
  {
   "cell_type": "markdown",
   "metadata": {},
   "source": [
    "### Implementation: Model Performance Metrics\n",
    "With the predefined functions above, you will now import the three supervised learning models of your choice and run the `train_predict` function for each one. Remember that you will need to train and predict on each classifier for three different training set sizes: 100, 200, and 300. Hence, you should expect to have 9 different outputs below — 3 for each model using the varying training set sizes. In the following code cell, you will need to implement the following:\n",
    "- Import the three supervised learning models you've discussed in the previous section.\n",
    "- Initialize the three models and store them in `clf_A`, `clf_B`, and `clf_C`.\n",
    " - Use a `random_state` for each model you use, if provided.\n",
    " - **Note:** Use the default settings for each model — you will tune one specific model in a later section.\n",
    "- Create the different training set sizes to be used to train each model.\n",
    " - *Do not reshuffle and resplit the data! The new training points should be drawn from `X_train` and `y_train`.*\n",
    "- Fit each model with each training set size and make predictions on the test set (9 in total).  \n",
    "**Note:** Three tables are provided after the following code cell which can be used to store your results."
   ]
  },
  {
   "cell_type": "code",
   "execution_count": 10,
   "metadata": {
    "collapsed": false
   },
   "outputs": [
    {
     "name": "stdout",
     "output_type": "stream",
     "text": [
      "Training a DecisionTreeClassifier using a training set size of 100. . .\n",
      "Trained model in 0.0037 seconds\n",
      "Made predictions in 0.0010 seconds.\n",
      "F1 score for training set: 1.0000.\n",
      "Made predictions in 0.0002 seconds.\n",
      "F1 score for test set: 0.6496.\n",
      "Training a DecisionTreeClassifier using a training set size of 200. . .\n",
      "Trained model in 0.0013 seconds\n",
      "Made predictions in 0.0002 seconds.\n",
      "F1 score for training set: 1.0000.\n",
      "Made predictions in 0.0002 seconds.\n",
      "F1 score for test set: 0.6341.\n",
      "Training a DecisionTreeClassifier using a training set size of 300. . .\n",
      "Trained model in 0.0018 seconds\n",
      "Made predictions in 0.0002 seconds.\n",
      "F1 score for training set: 1.0000.\n",
      "Made predictions in 0.0002 seconds.\n",
      "F1 score for test set: 0.7328.\n",
      "Training a SVC using a training set size of 100. . .\n",
      "Trained model in 0.0047 seconds\n",
      "Made predictions in 0.0015 seconds.\n",
      "F1 score for training set: 0.8955.\n",
      "Made predictions in 0.0008 seconds.\n",
      "F1 score for test set: 0.7714.\n",
      "Training a SVC using a training set size of 200. . .\n",
      "Trained model in 0.0031 seconds\n",
      "Made predictions in 0.0022 seconds.\n",
      "F1 score for training set: 0.8904.\n",
      "Made predictions in 0.0012 seconds.\n",
      "F1 score for test set: 0.7945.\n",
      "Training a SVC using a training set size of 300. . .\n",
      "Trained model in 0.0062 seconds\n",
      "Made predictions in 0.0049 seconds.\n",
      "F1 score for training set: 0.8627.\n",
      "Made predictions in 0.0016 seconds.\n",
      "F1 score for test set: 0.8212.\n",
      "Training a LogisticRegression using a training set size of 100. . .\n",
      "Trained model in 0.0046 seconds\n",
      "Made predictions in 0.0019 seconds.\n",
      "F1 score for training set: 0.8889.\n",
      "Made predictions in 0.0002 seconds.\n",
      "F1 score for test set: 0.7287.\n",
      "Training a LogisticRegression using a training set size of 200. . .\n",
      "Trained model in 0.0019 seconds\n",
      "Made predictions in 0.0002 seconds.\n",
      "F1 score for training set: 0.8451.\n",
      "Made predictions in 0.0002 seconds.\n",
      "F1 score for test set: 0.7770.\n",
      "Training a LogisticRegression using a training set size of 300. . .\n",
      "Trained model in 0.0028 seconds\n",
      "Made predictions in 0.0002 seconds.\n",
      "F1 score for training set: 0.8460.\n",
      "Made predictions in 0.0002 seconds.\n",
      "F1 score for test set: 0.7862.\n"
     ]
    }
   ],
   "source": [
    "# TODO: Import the three supervised learning models from sklearn\n",
    "from sklearn.tree import DecisionTreeClassifier\n",
    "from sklearn import svm\n",
    "from sklearn.linear_model import LogisticRegression\n",
    "\n",
    "# TODO: Initialize the three models\n",
    "clf_A = DecisionTreeClassifier(random_state=0)\n",
    "clf_B = svm.SVC(random_state = 444)\n",
    "clf_C = LogisticRegression(random_state = 123)\n",
    "\n",
    "# TODO: Set up the training set sizes\n",
    "X_train_100 = X_train[:100]\n",
    "y_train_100 = y_train[:100]\n",
    "\n",
    "X_train_200 = X_train[:200]\n",
    "y_train_200 = y_train[:200]\n",
    "\n",
    "X_train_300 = X_train[:300]\n",
    "y_train_300 = y_train[:300]\n",
    "\n",
    "# TODO: Execute the 'train_predict' function for each classifier and each training set size\n",
    "train_predict(clf_A, X_train_100, y_train_100, X_test, y_test)\n",
    "train_predict(clf_A, X_train_200, y_train_200, X_test, y_test)\n",
    "train_predict(clf_A, X_train_300, y_train_300, X_test, y_test)\n",
    "train_predict(clf_B, X_train_100, y_train_100, X_test, y_test)\n",
    "train_predict(clf_B, X_train_200, y_train_200, X_test, y_test)\n",
    "train_predict(clf_B, X_train_300, y_train_300, X_test, y_test)\n",
    "train_predict(clf_C, X_train_100, y_train_100, X_test, y_test)\n",
    "train_predict(clf_C, X_train_200, y_train_200, X_test, y_test)\n",
    "train_predict(clf_C, X_train_300, y_train_300, X_test, y_test)"
   ]
  },
  {
   "cell_type": "markdown",
   "metadata": {},
   "source": [
    "### Tabular Results\n",
    "Edit the cell below to see how a table can be designed in [Markdown](https://github.com/adam-p/markdown-here/wiki/Markdown-Cheatsheet#tables). You can record your results from above in the tables provided."
   ]
  },
  {
   "cell_type": "markdown",
   "metadata": {},
   "source": [
    "** Classifer 1 - Decision Tree**  \n",
    "\n",
    "| Training Set Size | Prediction Time (train) | Prediction Time (test) | F1 Score (train) | F1 Score (test) |\n",
    "| :---------------: | :---------------------: | :--------------------: | :--------------: | :-------------: |\n",
    "| 100               |         0.0004          |     0.0004             |         1.000    |   0.6496        |\n",
    "| 200               |        0.0004           |      0.0023            |       1.0000     |      0.6341     |\n",
    "| 300               |           0.0003        |          0.0003        |        1.0000    |    0.7328       |\n",
    "\n",
    "** Classifer 2 - Support Vector Machine** \n",
    "\n",
    "| Training Set Size | Prediction Time (train) | Prediction Time (test) | F1 Score (train) | F1 Score (test) |\n",
    "| :---------------: | :---------------------: | :--------------------: | :--------------: | :-------------: |\n",
    "| 100               |       0.0007            |        0.0007          |        0.8955    |      0.7714     |\n",
    "| 200               |      0.0027             |         0.0012         |        0.8904    |      0.7945     |\n",
    "| 300               |        0.0065           |           0.0025       |         0.8627   |     0.8212      |\n",
    "\n",
    "** Classifer 3 - Logistic Regression**  \n",
    "\n",
    "| Training Set Size | Prediction Time (train) | Prediction Time (test) | F1 Score (train) | F1 Score (test) |\n",
    "| :---------------: | :---------------------: | :--------------------: | :--------------: | :-------------: |\n",
    "| 100               |          0.0203         |        0.0003          |      0.8889      |    0.7287       |\n",
    "| 200               |         0.0002          |        0.0002          |      0.8451      |    0.7770       |\n",
    "| 300               |         0.0002          |       0.0002           |      0.8460      |    0.7862       |"
   ]
  },
  {
   "cell_type": "markdown",
   "metadata": {},
   "source": [
    "## Choosing the Best Model\n",
    "In this final section, you will choose from the three supervised learning models the *best* model to use on the student data. You will then perform a grid search optimization for the model over the entire training set (`X_train` and `y_train`) by tuning at least one parameter to improve upon the untuned model's F<sub>1</sub> score. "
   ]
  },
  {
   "cell_type": "markdown",
   "metadata": {},
   "source": [
    "### Question 3 - Chosing the Best Model\n",
    "*Based on the experiments you performed earlier, in one to two paragraphs, explain to the board of supervisors what single model you chose as the best model. Which model is generally the most appropriate based on the available data, limited resources, cost, and performance?*"
   ]
  },
  {
   "cell_type": "markdown",
   "metadata": {},
   "source": [
    "**Answer: ** From the 3 models tested, the best performing one was the Support Vector Machine. Although slightly slower than the other two, the SVC is still a very efficient model and it showed higher F1 scores for every training set size tested. "
   ]
  },
  {
   "cell_type": "markdown",
   "metadata": {},
   "source": [
    "### Question 4 - Model in Layman's Terms\n",
    "*In one to two paragraphs, explain to the board of directors in layman's terms how the final model chosen is supposed to work. For example if you've chosen to use a decision tree or a support vector machine, how does the model go about making a prediction?*"
   ]
  },
  {
   "cell_type": "markdown",
   "metadata": {},
   "source": [
    "**Answer: ** The final model I have chosen based on my preliminary tests above is the Support Vector Machine, or more specifically, Support Vector Classifier (SVC), which is a supervised machine learning method used to classify data points in to predertimined categories. \n",
    "\n",
    "The SVC will take in data about past students (age, gender, family, etc.) and use that to create a function which draws a boundary between the students who graduated and those who did not. The boundary should be drawn in such a way that maximizes the margin, or distance, between each student and the decision line.\n",
    "\n",
    "To say that we are drawing a line, however, is actually an oversimplification of the problem because each student has a large number of features and we are attempting to separate then in a space with more than two dimensions. This is accomplished by creating a hyperplane which seperates the data points in a multi-dimesional space. For the sake of simplicity this hyperplane can be thought of as a curved line in a two dimensional space.\n",
    "\n",
    "Using this function, based on the seperation of students in multiple dimensions, the SVC can take in data from new students and predict which side of the decision boundary they fall on, and this is how we will use it to determine whether a student is likely to pass or to fail.\n",
    "\n",
    "**References**\n",
    "\n",
    "https://www.quora.com/What-does-support-vector-machine-SVM-mean-in-laymans-terms"
   ]
  },
  {
   "cell_type": "markdown",
   "metadata": {},
   "source": [
    "### Implementation: Model Tuning\n",
    "Fine tune the chosen model. Use grid search (`GridSearchCV`) with at least one important parameter tuned with at least 3 different values. You will need to use the entire training set for this. In the code cell below, you will need to implement the following:\n",
    "- Import [`sklearn.grid_search.gridSearchCV`](http://scikit-learn.org/stable/modules/generated/sklearn.grid_search.GridSearchCV.html) and [`sklearn.metrics.make_scorer`](http://scikit-learn.org/stable/modules/generated/sklearn.metrics.make_scorer.html).\n",
    "- Create a dictionary of parameters you wish to tune for the chosen model.\n",
    " - Example: `parameters = {'parameter' : [list of values]}`.\n",
    "- Initialize the classifier you've chosen and store it in `clf`.\n",
    "- Create the F<sub>1</sub> scoring function using `make_scorer` and store it in `f1_scorer`.\n",
    " - Set the `pos_label` parameter to the correct value!\n",
    "- Perform grid search on the classifier `clf` using `f1_scorer` as the scoring method, and store it in `grid_obj`.\n",
    "- Fit the grid search object to the training data (`X_train`, `y_train`), and store it in `grid_obj`."
   ]
  },
  {
   "cell_type": "code",
   "execution_count": 47,
   "metadata": {
    "collapsed": false
   },
   "outputs": [
    {
     "name": "stdout",
     "output_type": "stream",
     "text": [
      "{'kernel': 'poly', 'C': 0.1, 'tol': 0.1, 'gamma': 0.01}\n",
      "Made predictions in 0.0040 seconds.\n",
      "Tuned model has a training F1 score of 0.8510.\n",
      "Made predictions in 0.0013 seconds.\n",
      "Tuned model has a testing F1 score of 0.8243.\n"
     ]
    }
   ],
   "source": [
    "# TODO: Import 'gridSearchCV' and 'make_scorer'\n",
    "from sklearn.grid_search import GridSearchCV\n",
    "from sklearn.metrics import make_scorer\n",
    "\n",
    "# TODO: Create the parameters list you wish to tune\n",
    "parameters = {'C': [.01, .1, 1, 10, 50],\n",
    "             'gamma': [1e-2, 1e-3, 1e-4, 1e-5, 1e-6],\n",
    "             'kernel': [\"rbf\",\"poly\",\"sigmoid\"],\n",
    "             'tol':[.1, 1e-2, 1e-3, 1e-4, 1e-5]}\n",
    "\n",
    "# TODO: Initialize the classifier\n",
    "clf = svm.SVC(random_state=444)\n",
    "\n",
    "# TODO: Make an f1 scoring function using 'make_scorer' \n",
    "f1_scorer = make_scorer(f1_score, pos_label='yes')\n",
    "\n",
    "# TODO: Perform grid search on the classifier using the f1_scorer as the scoring method\n",
    "grid = GridSearchCV(clf, parameters, scoring = f1_scorer)\n",
    "\n",
    "# TODO: Fit the grid search object to the training data and find the optimal parameters\n",
    "grid = grid.fit(X_train,y_train)\n",
    "\n",
    "# Get the estimator\n",
    "clf = grid.best_estimator_\n",
    "\n",
    "# Report the final F1 score for training and testing after parameter tuning\n",
    "print grid.best_params_\n",
    "print \"Tuned model has a training F1 score of {:.4f}.\".format(predict_labels(clf, X_train, y_train))\n",
    "print \"Tuned model has a testing F1 score of {:.4f}.\".format(predict_labels(clf, X_test, y_test))\n"
   ]
  },
  {
   "cell_type": "markdown",
   "metadata": {},
   "source": [
    "### Question 5 - Final F<sub>1</sub> Score\n",
    "*What is the final model's F<sub>1</sub> score for training and testing? How does that score compare to the untuned model?*"
   ]
  },
  {
   "cell_type": "markdown",
   "metadata": {},
   "source": [
    "**Answer: ** In the final tuned model, the F1 scores for training and testing are 0.851 and 0.8243 respectively. This means that the training F1 score decreased slightly after tuning, and the testing F1 score increased slightly. This is a desierable result because it means that tuning the parameters has made the model slightly more robust for predicting new data points."
   ]
  },
  {
<<<<<<< HEAD
   "cell_type": "code",
   "execution_count": null,
   "metadata": {
    "collapsed": true
   },
   "outputs": [],
   "source": []
=======
   "cell_type": "markdown",
   "metadata": {},
   "source": [

   ]
>>>>>>> 4eacc4a6527ad0f99563fe4bb34a2a7be92b4e0e
  }
 ],
 "metadata": {
  "kernelspec": {
   "display_name": "Python 2",
   "language": "python",
   "name": "python2"
  },
  "language_info": {
   "codemirror_mode": {
    "name": "ipython",
    "version": 2
   },
   "file_extension": ".py",
   "mimetype": "text/x-python",
   "name": "python",
   "nbconvert_exporter": "python",
   "pygments_lexer": "ipython2",
   "version": "2.7.12"
  }
 },
 "nbformat": 4,
 "nbformat_minor": 0
}
